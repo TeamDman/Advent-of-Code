{
 "cells": [
  {
   "cell_type": "markdown",
   "metadata": {},
   "source": [
    "https://www.reddit.com/r/adventofcode/comments/1883ibu/2023_day_1_solutions/kbiga3g/"
   ]
  },
  {
   "cell_type": "code",
   "execution_count": 3,
   "metadata": {},
   "outputs": [
    {
     "name": "stdout",
     "output_type": "stream",
     "text": [
      "53866\n"
     ]
    }
   ],
   "source": [
    "f = open(\"src/bin/input1.txt\").read().strip().split(\"\\n\")\n",
    "\n",
    "o = 0\n",
    "for i in range(len(f)):\n",
    "    x = f[i]\n",
    "    y = \"\"\n",
    "    for i in range(len(x)):\n",
    "        if x[i] in \"0123456789\":\n",
    "            y += x[i]\n",
    "        # PART TWO CODE\n",
    "        words = [\"zero\",\"one\",\"two\",\"three\",\"four\",\"five\",\"six\",\"seven\",\"eight\",\"nine\"]\n",
    "        for j in words:\n",
    "            if x[i:i+len(j)] == j:\n",
    "                y += str(words.index(j))\n",
    "\n",
    "    o+= int(y[0]+y[-1])\n",
    "print(o)"
   ]
  }
 ],
 "metadata": {
  "kernelspec": {
   "display_name": "sfm",
   "language": "python",
   "name": "python3"
  },
  "language_info": {
   "codemirror_mode": {
    "name": "ipython",
    "version": 3
   },
   "file_extension": ".py",
   "mimetype": "text/x-python",
   "name": "python",
   "nbconvert_exporter": "python",
   "pygments_lexer": "ipython3",
   "version": "3.10.12"
  }
 },
 "nbformat": 4,
 "nbformat_minor": 2
}
