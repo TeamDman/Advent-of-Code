{
 "cells": [
  {
   "cell_type": "code",
   "execution_count": 1,
   "metadata": {},
   "outputs": [],
   "source": [
    "import matplotlib.pyplot as plt\n",
    "from pathlib import Path\n",
    "import json\n",
    "from dataclasses import dataclass"
   ]
  },
  {
   "cell_type": "code",
   "execution_count": 2,
   "metadata": {},
   "outputs": [],
   "source": [
    "@dataclass\n",
    "class Run:\n",
    "    timestamp: int\n",
    "    mode: str\n",
    "    function_name: str\n",
    "    input_length: str\n",
    "    duration_nanoseconds: int"
   ]
  },
  {
   "cell_type": "code",
   "execution_count": 3,
   "metadata": {},
   "outputs": [
    {
     "data": {
      "text/plain": [
       "'257.50 µs'"
      ]
     },
     "execution_count": 3,
     "metadata": {},
     "output_type": "execute_result"
    }
   ],
   "source": [
    "def format_duration(ns):\n",
    "    # Convert to seconds\n",
    "    time_in_s = ns / 1e9\n",
    "    if time_in_s < 1e-6:  # Less than a microsecond\n",
    "        return f\"{ns} ns\"\n",
    "    elif time_in_s < 1e-3:  # Less than a millisecond\n",
    "        return f\"{ns / 1e3:.2f} µs\"\n",
    "    elif time_in_s < 1:  # Less than a second\n",
    "        return f\"{ns / 1e6:.2f} ms\"\n",
    "    else:  # Seconds\n",
    "        return f\"{time_in_s:.2f} s\"\n",
    "format_duration(257500)"
   ]
  },
  {
   "cell_type": "code",
   "execution_count": 4,
   "metadata": {},
   "outputs": [],
   "source": [
    "readme_content = \"\"\"\n",
    "# Advent of Code 2023\n",
    "\"\"\".strip()"
   ]
  },
  {
   "cell_type": "code",
   "execution_count": 5,
   "metadata": {},
   "outputs": [
    {
     "name": "stdout",
     "output_type": "stream",
     "text": [
      "day-01\n"
     ]
    },
    {
     "name": "stdout",
     "output_type": "stream",
     "text": [
      "day-02\n",
      "day-03\n",
      "day-04\n",
      "day-05\n",
      "day-06\n",
      "day-07\n",
      "day-08\n",
      "day-09\n"
     ]
    }
   ],
   "source": [
    "for folder in Path(\".\").glob(\"day-*\"):\n",
    "    if folder == Path(\"day-00\"):\n",
    "        continue\n",
    "    print(folder)\n",
    "    readme_content += f\"\\n\\n## {folder.name.title()}\\n\\n\"\n",
    "    content = (folder / \"function_times.log\").read_text()\n",
    "    runs = [Run(**json.loads(line)) for line in content.splitlines()]\n",
    "\n",
    "    # Set the plot style\n",
    "    plt.style.use('dark_background')\n",
    "\n",
    "    # Create the plot\n",
    "    fig, ax = plt.subplots()\n",
    "\n",
    "    # data: part1-debug, part1-release, part2-debug, part2-release\n",
    "    # part1-debug: light orange\n",
    "    # part1-release: dark orange\n",
    "    # part2-debug: light blue\n",
    "    # part2-release: dark blue\n",
    "    for mode in [\"debug\", \"release\"]:\n",
    "        for function_name in [\"part1\", \"part2\"]:\n",
    "            data = [run for run in runs if run.mode == mode and run.function_name == function_name]\n",
    "            # set color as hex value based on mode and function_name\n",
    "            # darker colour for release mode\n",
    "            color = {\n",
    "                \"debugpart1\": \"#993900\",\n",
    "                \"debugpart2\": \"#005099\",\n",
    "                \"releasepart1\": \"#ff6f00\",\n",
    "                \"releasepart2\": \"#0091ea\",\n",
    "            }[mode+function_name]\n",
    "            ax.plot([run.timestamp for run in data], [run.duration_nanoseconds/1e3 for run in data], label=f\"{function_name} ({mode})\", color=color)\n",
    "\n",
    "    # runs_by_function = {}\n",
    "    # for run in runs:\n",
    "    #     runs_by_function.setdefault(run.function_name, []).append(run)\n",
    "    # for function_name, group in runs_by_function.items():\n",
    "    #     ax.plot([run.timestamp for run in group], [run.duration_nanoseconds/1e3 for run in group], label=function_name)\n",
    "\n",
    "    # Set the facecolor to dark gray\n",
    "    ax.set_facecolor('#0d1117')\n",
    "\n",
    "    # Set the text color to light gray for visibility against the dark background\n",
    "    ax.tick_params(colors='lightgray', which='both')  # Change the color of ticks\n",
    "    ax.spines['bottom'].set_color('lightgray')\n",
    "    ax.spines['left'].set_color('lightgray')\n",
    "\n",
    "    # Set the labels and title\n",
    "    ax.legend()\n",
    "    ax.set_xlabel(\"When I ran it\", color='lightgray')\n",
    "    ax.set_ylabel(\"How long it took (µs)\", color='lightgray')\n",
    "    ax.set_title(folder.name, color='lightgray')\n",
    "\n",
    "    # Set the margin color\n",
    "    fig.patch.set_facecolor('#30363d')\n",
    "\n",
    "    # Save the plot to a PNG file\n",
    "    output_file_path = folder / f\"{folder.name}.png\"\n",
    "    plt.savefig(output_file_path, facecolor=fig.get_facecolor(), edgecolor='none')\n",
    "    output_file_path = str(output_file_path).replace(\"\\\\\", \"/\")\n",
    "    \n",
    "    readme_content += f\"![execution time for {folder.name}]({output_file_path})\\n\\n\"\n",
    "    latest_part2_debug = format_duration(next(run for run in runs[::-1] if run.mode == \"debug\" and run.function_name == \"part2\").duration_nanoseconds)\n",
    "    latest_part1_debug = format_duration(next(run for run in runs[::-1] if run.mode == \"debug\" and run.function_name == \"part1\").duration_nanoseconds)\n",
    "    latest_part1_release = format_duration(next(run for run in runs[::-1] if run.mode == \"release\" and run.function_name == \"part1\").duration_nanoseconds)\n",
    "    latest_part2_release = format_duration(next(run for run in runs[::-1] if run.mode == \"release\" and run.function_name == \"part2\").duration_nanoseconds)\n",
    "\n",
    "    readme_content += f\"\"\"| Mode | Part 1 | Part 2 |\n",
    "|--------|--------|--------|\n",
    "| Debug | {latest_part1_debug} | {latest_part2_debug} |\n",
    "| Release | {latest_part1_release} | {latest_part2_release} |\n",
    "\"\"\".strip()\n",
    "\n",
    "    # Close the plot to free memory\n",
    "    plt.close(fig)"
   ]
  },
  {
   "cell_type": "code",
   "execution_count": 6,
   "metadata": {},
   "outputs": [],
   "source": [
    "with open(\"README.md\",\"w\",encoding=\"utf-8\") as f:\n",
    "    f.write(readme_content)"
   ]
  }
 ],
 "metadata": {
  "kernelspec": {
   "display_name": "sfm",
   "language": "python",
   "name": "python3"
  },
  "language_info": {
   "codemirror_mode": {
    "name": "ipython",
    "version": 3
   },
   "file_extension": ".py",
   "mimetype": "text/x-python",
   "name": "python",
   "nbconvert_exporter": "python",
   "pygments_lexer": "ipython3",
   "version": "3.10.12"
  }
 },
 "nbformat": 4,
 "nbformat_minor": 2
}
