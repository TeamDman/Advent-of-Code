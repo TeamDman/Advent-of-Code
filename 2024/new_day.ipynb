{
 "cells": [
  {
   "cell_type": "code",
   "execution_count": 7,
   "metadata": {},
   "outputs": [],
   "source": [
    "import os\n",
    "import shutil\n",
    "import re"
   ]
  },
  {
   "cell_type": "code",
   "execution_count": 8,
   "metadata": {},
   "outputs": [
    {
     "name": "stdout",
     "output_type": "stream",
     "text": [
      "New day to be created: day-03\n"
     ]
    }
   ],
   "source": [
    "latest_day = 0\n",
    "for item in os.listdir('.'):\n",
    "    if os.path.isdir(item) and item.startswith('day-'):\n",
    "        day_num = int(item.split('-')[1])\n",
    "        latest_day = max(latest_day, day_num)\n",
    "\n",
    "new_day = f'day-{latest_day + 1:02d}'\n",
    "print(f\"New day to be created: {new_day}\")"
   ]
  },
  {
   "cell_type": "code",
   "execution_count": 9,
   "metadata": {},
   "outputs": [
    {
     "name": "stdout",
     "output_type": "stream",
     "text": [
      "Directory day-03 created.\n"
     ]
    }
   ],
   "source": [
    "os.makedirs(new_day)\n",
    "print(f\"Directory {new_day} created.\")"
   ]
  },
  {
   "cell_type": "code",
   "execution_count": 10,
   "metadata": {},
   "outputs": [
    {
     "name": "stdout",
     "output_type": "stream",
     "text": [
      "Copied template files from day-00 to day-03\n"
     ]
    }
   ],
   "source": [
    "template_day = 'day-00'\n",
    "for item in os.listdir(template_day):\n",
    "    s = os.path.join(template_day, item)\n",
    "    d = os.path.join(new_day, item)\n",
    "    if os.path.isdir(s):\n",
    "        shutil.copytree(s, d)\n",
    "    else:\n",
    "        shutil.copy2(s, d)\n",
    "print(f\"Copied template files from {template_day} to {new_day}\")"
   ]
  },
  {
   "cell_type": "code",
   "execution_count": 11,
   "metadata": {},
   "outputs": [
    {
     "name": "stdout",
     "output_type": "stream",
     "text": [
      "Updated package.name in day-03\\cargo.toml\n"
     ]
    }
   ],
   "source": [
    "cargo_toml_path = os.path.join(new_day, 'cargo.toml')\n",
    "with open(cargo_toml_path, 'r') as file:\n",
    "    content = file.read()\n",
    "\n",
    "content = re.sub(r'name = \"day-00\"', f'name = \"{new_day}\"', content)\n",
    "\n",
    "with open(cargo_toml_path, 'w') as file:\n",
    "    file.write(content)\n",
    "\n",
    "print(f\"Updated package.name in {cargo_toml_path}\")"
   ]
  },
  {
   "cell_type": "code",
   "execution_count": 12,
   "metadata": {},
   "outputs": [
    {
     "name": "stdout",
     "output_type": "stream",
     "text": [
      "Added day-03 to workspace.members in cargo.toml\n"
     ]
    }
   ],
   "source": [
    "workspace_cargo_toml_path = 'cargo.toml'\n",
    "with open(workspace_cargo_toml_path, 'r') as file:\n",
    "    content = file.read()\n",
    "\n",
    "lines = content.split(\"\\n\")\n",
    "lines.insert(len(lines)-3, f'  \"{new_day}\",')\n",
    "content = \"\\n\".join(lines)\n",
    "\n",
    "with open(workspace_cargo_toml_path, 'w') as file:\n",
    "    file.write(content)\n",
    "\n",
    "print(f\"Added {new_day} to workspace.members in {workspace_cargo_toml_path}\")"
   ]
  }
 ],
 "metadata": {
  "kernelspec": {
   "display_name": "sfm",
   "language": "python",
   "name": "python3"
  },
  "language_info": {
   "codemirror_mode": {
    "name": "ipython",
    "version": 3
   },
   "file_extension": ".py",
   "mimetype": "text/x-python",
   "name": "python",
   "nbconvert_exporter": "python",
   "pygments_lexer": "ipython3",
   "version": "3.10.12"
  }
 },
 "nbformat": 4,
 "nbformat_minor": 2
}
