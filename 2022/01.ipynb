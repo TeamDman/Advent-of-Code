{
 "cells": [
  {
   "cell_type": "code",
   "execution_count": 59,
   "metadata": {},
   "outputs": [
    {
     "name": "stdout",
     "output_type": "stream",
     "text": [
      "6110\n",
      "2550\n",
      "\n"
     ]
    }
   ],
   "source": [
    "with open(\"01.txt\", \"r\") as f:\n",
    "    lines = f.read()\n",
    "print(lines[0:10])"
   ]
  },
  {
   "cell_type": "code",
   "execution_count": 58,
   "metadata": {},
   "outputs": [
    {
     "name": "stdout",
     "output_type": "stream",
     "text": [
      "[[6110, 2550, 6915, 5699, 4954, 5093, 3141, 5939, 4177, 3544, 5438, 5391, 3019], [4691, 6961, 7515, 4545, 11145, 8346, 9225], [9005, 2121, 4267, 1808, 3305, 9701, 1419]]\n"
     ]
    }
   ],
   "source": [
    "elves = lines.split(\"\\n\\n\")\n",
    "elves = [[int(x) for x in elf.split()] for elf in elves]\n",
    "print(elves[0:3])"
   ]
  },
  {
   "cell_type": "code",
   "execution_count": 21,
   "metadata": {},
   "outputs": [
    {
     "data": {
      "text/plain": [
       "69501"
      ]
     },
     "execution_count": 21,
     "metadata": {},
     "output_type": "execute_result"
    }
   ],
   "source": [
    "max(sum(x) for x in elves)"
   ]
  },
  {
   "cell_type": "code",
   "execution_count": 46,
   "metadata": {},
   "outputs": [],
   "source": [
    "import torch\n",
    "import torch.nn.functional as F"
   ]
  },
  {
   "cell_type": "code",
   "execution_count": 53,
   "metadata": {},
   "outputs": [
    {
     "name": "stdout",
     "output_type": "stream",
     "text": [
      "tensor([[ 6110,  2550,  6915,  ...,  3019,     0,     0],\n",
      "        [ 4691,  6961,  7515,  ...,     0,     0,     0],\n",
      "        [ 9005,  2121,  4267,  ...,     0,     0,     0],\n",
      "        ...,\n",
      "        [20922,  8396,  4707,  ...,     0,     0,     0],\n",
      "        [ 1965,  3603,  1494,  ...,  3449,  5419,     0],\n",
      "        [ 4597,  3641,  5977,  ...,  3329,  5404,     0]])\n"
     ]
    }
   ],
   "source": [
    "shape=max(len(x) for x in elves)\n",
    "x = torch.vstack([torch.tensor(x+[0]*(shape-len(x))) for x in elves])\n",
    "print(x)"
   ]
  },
  {
   "cell_type": "code",
   "execution_count": 56,
   "metadata": {},
   "outputs": [
    {
     "data": {
      "text/plain": [
       "tensor(202346)"
      ]
     },
     "execution_count": 56,
     "metadata": {},
     "output_type": "execute_result"
    }
   ],
   "source": [
    "x.sum(1).topk(3).values.sum()"
   ]
  }
 ],
 "metadata": {
  "kernelspec": {
   "display_name": "Python 3.10.4 64-bit",
   "language": "python",
   "name": "python3"
  },
  "language_info": {
   "codemirror_mode": {
    "name": "ipython",
    "version": 3
   },
   "file_extension": ".py",
   "mimetype": "text/x-python",
   "name": "python",
   "nbconvert_exporter": "python",
   "pygments_lexer": "ipython3",
   "version": "3.10.4"
  },
  "orig_nbformat": 4,
  "vscode": {
   "interpreter": {
    "hash": "3ad933181bd8a04b432d3370b9dc3b0662ad032c4dfaa4e4f1596c548f763858"
   }
  }
 },
 "nbformat": 4,
 "nbformat_minor": 2
}
