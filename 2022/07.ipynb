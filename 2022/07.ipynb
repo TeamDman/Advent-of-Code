{
 "cells": [
  {
   "cell_type": "code",
   "execution_count": null,
   "metadata": {},
   "outputs": [],
   "source": [
    "# problem definition\n",
    "\n",
    "# --- Day 7: No Space Left On Device ---\n",
    "# You can hear birds chirping and raindrops hitting leaves as the expedition proceeds. Occasionally, you can even hear much louder sounds in the distance; how big do the animals get out here, anyway?\n",
    "\n",
    "# The device the Elves gave you has problems with more than just its communication system. You try to run a system update:\n",
    "\n",
    "# $ system-update --please --pretty-please-with-sugar-on-top\n",
    "# Error: No space left on device\n",
    "# Perhaps you can delete some files to make space for the update?\n",
    "\n",
    "# You browse around the filesystem to assess the situation and save the resulting terminal output (your puzzle input). For example:\n",
    "\n",
    "# $ cd /\n",
    "# $ ls\n",
    "# dir a\n",
    "# 14848514 b.txt\n",
    "# 8504156 c.dat\n",
    "# dir d\n",
    "# $ cd a\n",
    "# $ ls\n",
    "# dir e\n",
    "# 29116 f\n",
    "# 2557 g\n",
    "# 62596 h.lst\n",
    "# $ cd e\n",
    "# $ ls\n",
    "# 584 i\n",
    "# $ cd ..\n",
    "# $ cd ..\n",
    "# $ cd d\n",
    "# $ ls\n",
    "# 4060174 j\n",
    "# 8033020 d.log\n",
    "# 5626152 d.ext\n",
    "# 7214296 k\n",
    "# The filesystem consists of a tree of files (plain data) and directories (which can contain other directories or files). The outermost directory is called /. You can navigate around the filesystem, moving into or out of directories and listing the contents of the directory you're currently in.\n",
    "\n",
    "# Within the terminal output, lines that begin with $ are commands you executed, very much like some modern computers:\n",
    "\n",
    "# cd means change directory. This changes which directory is the current directory, but the specific result depends on the argument:\n",
    "# cd x moves in one level: it looks in the current directory for the directory named x and makes it the current directory.\n",
    "# cd .. moves out one level: it finds the directory that contains the current directory, then makes that directory the current directory.\n",
    "# cd / switches the current directory to the outermost directory, /.\n",
    "# ls means list. It prints out all of the files and directories immediately contained by the current directory:\n",
    "# 123 abc means that the current directory contains a file named abc with size 123.\n",
    "# dir xyz means that the current directory contains a directory named xyz.\n",
    "# Given the commands and output in the example above, you can determine that the filesystem looks visually like this:\n",
    "\n",
    "# - / (dir)\n",
    "#   - a (dir)\n",
    "#     - e (dir)\n",
    "#       - i (file, size=584)\n",
    "#     - f (file, size=29116)\n",
    "#     - g (file, size=2557)\n",
    "#     - h.lst (file, size=62596)\n",
    "#   - b.txt (file, size=14848514)\n",
    "#   - c.dat (file, size=8504156)\n",
    "#   - d (dir)\n",
    "#     - j (file, size=4060174)\n",
    "#     - d.log (file, size=8033020)\n",
    "#     - d.ext (file, size=5626152)\n",
    "#     - k (file, size=7214296)\n",
    "# Here, there are four directories: / (the outermost directory), a and d (which are in /), and e (which is in a). These directories also contain files of various sizes.\n",
    "\n",
    "# Since the disk is full, your first step should probably be to find directories that are good candidates for deletion. To do this, you need to determine the total size of each directory. The total size of a directory is the sum of the sizes of the files it contains, directly or indirectly. (Directories themselves do not count as having any intrinsic size.)\n",
    "\n",
    "# The total sizes of the directories above can be found as follows:\n",
    "\n",
    "# The total size of directory e is 584 because it contains a single file i of size 584 and no other directories.\n",
    "# The directory a has total size 94853 because it contains files f (size 29116), g (size 2557), and h.lst (size 62596), plus file i indirectly (a contains e which contains i).\n",
    "# Directory d has total size 24933642.\n",
    "# As the outermost directory, / contains every file. Its total size is 48381165, the sum of the size of every file.\n",
    "# To begin, find all of the directories with a total size of at most 100000, then calculate the sum of their total sizes. In the example above, these directories are a and e; the sum of their total sizes is 95437 (94853 + 584). (As in this example, this process can count files more than once!)\n",
    "\n",
    "# Find all of the directories with a total size of at most 100000. What is the sum of the total sizes of those directories?"
   ]
  },
  {
   "cell_type": "markdown",
   "metadata": {},
   "source": [
    "copilot fills in summary after the first line below"
   ]
  },
  {
   "cell_type": "code",
   "execution_count": null,
   "metadata": {},
   "outputs": [],
   "source": [
    "# summary of the problem:\n",
    "# - find all directories with a total size of at most 100000\n",
    "# - calculate the sum of their total sizes\n",
    "# - return the sum\n",
    "# - the total size of a directory is the sum of the sizes of the files it contains, directly or indirectly\n",
    "# - directories themselves do not count as having any intrinsic size\n"
   ]
  },
  {
   "cell_type": "code",
   "execution_count": 2,
   "metadata": {},
   "outputs": [
    {
     "name": "stdout",
     "output_type": "stream",
     "text": [
      "['$ cd /', '$ ls', '113975 bqpslnv', '50243 btttmt.nmb', 'dir gbjh', 'dir hlpzbht', '43500 lblt', 'dir phpmmtvc', 'dir plbjmdl', 'dir tggr']\n"
     ]
    }
   ],
   "source": [
    "# read lines to array from 07.txt\n",
    "with open('07.txt') as f:\n",
    "    lines = f.read().strip().split(\"\\n\")\n",
    "print(lines[0:10])"
   ]
  },
  {
   "cell_type": "code",
   "execution_count": 3,
   "metadata": {},
   "outputs": [],
   "source": [
    "from typing import List\n",
    "from pathlib import Path\n",
    "from pprint import pprint"
   ]
  },
  {
   "cell_type": "code",
   "execution_count": 28,
   "metadata": {},
   "outputs": [
    {
     "data": {
      "text/plain": [
       "[PosixPath('/a/b/c'), PosixPath('/a/b'), PosixPath('/a'), PosixPath('/')]"
      ]
     },
     "execution_count": 28,
     "metadata": {},
     "output_type": "execute_result"
    }
   ],
   "source": [
    "list(Path(\"/a/b/c/d\").parents)"
   ]
  },
  {
   "cell_type": "code",
   "execution_count": 29,
   "metadata": {},
   "outputs": [],
   "source": [
    "def solve(lines: List[str]) -> int:\n",
    "    # copy input so we don't modify the passed in list\n",
    "    remaining = [x for x in lines]\n",
    "    # start at root\n",
    "    cwd = Path(\"/\")\n",
    "    # dict of dir to size\n",
    "    sizes = {}\n",
    "    debounce = set()\n",
    "    # while unprocessed input remains\n",
    "    while len(remaining) > 0:\n",
    "        # get next line\n",
    "        line = remaining.pop(0).strip()\n",
    "        if line.startswith('$ cd '): # change cwd\n",
    "            dir = line[5:]\n",
    "            if dir.startswith(\"/\"):\n",
    "                cwd = Path(dir)\n",
    "            elif dir == \"..\":\n",
    "                cwd = cwd.parent\n",
    "            else:\n",
    "                cwd = cwd / dir\n",
    "            # print(\"Changed to \", cwd)\n",
    "        elif line == \"$ ls\":\n",
    "            # print(\"Gathering files\")\n",
    "            # while next line isn't a command, consider it as ls output\n",
    "            while len(remaining) > 0 and not remaining[0].startswith(\"$\"):\n",
    "                line = remaining.pop(0)\n",
    "                if line.startswith(\"dir \"):\n",
    "                    continue\n",
    "                else:\n",
    "                    # get file size\n",
    "                    size, file = line.split(\" \")\n",
    "                    filePath = (cwd / file).absolute().__str__()\n",
    "                    # print(filePath in debounce, filePath, debounce)\n",
    "                    if filePath in debounce:\n",
    "                        print(\"!!!!!!!\", filePath)\n",
    "                        continue\n",
    "                    debounce.add(filePath)\n",
    "                    for parent in (cwd/file).parents:\n",
    "                        parentPath = parent.absolute().__str__()\n",
    "                        if parentPath not in sizes:\n",
    "                            sizes[parentPath] = 0\n",
    "                        sizes[parentPath] += int(size)\n",
    "        else:\n",
    "            raise Exception(f\"unprocessed line: {line}\")\n",
    "    ans = sum([x for x in sizes.values() if x <= 100000])\n",
    "    return ans, (sizes,)"
   ]
  },
  {
   "cell_type": "code",
   "execution_count": 31,
   "metadata": {},
   "outputs": [
    {
     "name": "stdout",
     "output_type": "stream",
     "text": [
      "!!!!!!! /bears/beans\n",
      "!!!!!!! /bears/frogs\n",
      "95737\n"
     ]
    }
   ],
   "source": [
    "t1,_ = solve(\"\"\"\n",
    "$ cd /\n",
    "$ ls\n",
    "dir a\n",
    "14848514 b.txt\n",
    "8504156 c.dat\n",
    "dir d\n",
    "$ cd a\n",
    "$ ls\n",
    "dir e\n",
    "29116 f\n",
    "2557 g\n",
    "62596 h.lst\n",
    "$ cd e\n",
    "$ ls\n",
    "584 i\n",
    "$ cd ..\n",
    "$ cd ..\n",
    "$ cd d\n",
    "$ ls\n",
    "4060174 j\n",
    "8033020 d.log\n",
    "5626152 d.ext\n",
    "7214296 k\n",
    "$ cd /\n",
    "$ cd bears\n",
    "$ ls\n",
    "100 beans\n",
    "200 frogs\n",
    "$ cd ..\n",
    "$ cd bears\n",
    "$ ls\n",
    "100 beans\n",
    "200 frogs\n",
    "\"\"\".strip().split(\"\\n\"))\n",
    "print(t1)\n",
    "assert t1 == 95437 + 100 + 200"
   ]
  },
  {
   "cell_type": "code",
   "execution_count": 33,
   "metadata": {},
   "outputs": [
    {
     "name": "stdout",
     "output_type": "stream",
     "text": [
      "2061777\n"
     ]
    }
   ],
   "source": [
    "p1, (sizes,) = solve(lines)\n",
    "print(p1)\n",
    "assert p1 > 1822026 # too low"
   ]
  },
  {
   "cell_type": "markdown",
   "metadata": {},
   "source": [
    "# PArt 2"
   ]
  },
  {
   "cell_type": "code",
   "execution_count": 37,
   "metadata": {},
   "outputs": [],
   "source": [
    "total = 70000000\n",
    "needed = 30000000\n",
    "used = sizes[\"/\"]"
   ]
  },
  {
   "cell_type": "code",
   "execution_count": 46,
   "metadata": {},
   "outputs": [
    {
     "name": "stdout",
     "output_type": "stream",
     "text": [
      "[('/phpmmtvc/bqpslnv/vtnptsl', 4473403),\n",
      " ('/gbjh/pzdn/nlwnv', 5172382),\n",
      " ('/phpmmtvc/dptzbgc', 6841976),\n",
      " ('/gbjh/pzdn', 8292589),\n",
      " ('/phpmmtvc/bqpslnv', 8898409),\n",
      " ('/phpmmtvc/vnswqbm', 9095427),\n",
      " ('/gbjh', 9976905),\n",
      " ('/phpmmtvc', 30197553),\n",
      " ('/', 44125990)]\n"
     ]
    }
   ],
   "source": [
    "kill = [(i,v) for i,v in sizes.items() if total - (used - v) >= needed]\n",
    "kill.sort(key=lambda x: x[1])\n",
    "pprint(kill)"
   ]
  },
  {
   "cell_type": "code",
   "execution_count": 48,
   "metadata": {},
   "outputs": [
    {
     "data": {
      "text/plain": [
       "4473403"
      ]
     },
     "execution_count": 48,
     "metadata": {},
     "output_type": "execute_result"
    }
   ],
   "source": [
    "kill[0][1]"
   ]
  }
 ],
 "metadata": {
  "kernelspec": {
   "display_name": "Python 3.10.4 64-bit",
   "language": "python",
   "name": "python3"
  },
  "language_info": {
   "codemirror_mode": {
    "name": "ipython",
    "version": 3
   },
   "file_extension": ".py",
   "mimetype": "text/x-python",
   "name": "python",
   "nbconvert_exporter": "python",
   "pygments_lexer": "ipython3",
   "version": "3.10.4"
  },
  "orig_nbformat": 4,
  "vscode": {
   "interpreter": {
    "hash": "3ad933181bd8a04b432d3370b9dc3b0662ad032c4dfaa4e4f1596c548f763858"
   }
  }
 },
 "nbformat": 4,
 "nbformat_minor": 2
}
