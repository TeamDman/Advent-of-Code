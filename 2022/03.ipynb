{
 "cells": [
  {
   "cell_type": "code",
   "execution_count": 1,
   "metadata": {},
   "outputs": [
    {
     "data": {
      "text/plain": [
       "\"\\n--- Day 3: Rucksack Reorganization ---\\n\\nOne Elf has the important job of loading all of the rucksacks with supplies for the jungle journey. Unfortunately, that Elf didn't quite follow the packing instructions, and so a few items now need to be rearranged.\\n\\nEach rucksack has two large compartments. All items of a given type are meant to go into exactly one of the two compartments. The Elf that did the packing failed to follow this rule for exactly one item type per rucksack.\\n\\nThe Elves have made a list of all of the items currently in each rucksack (your puzzle input), but they need your help finding the errors. Every item type is identified by a single lowercase or uppercase letter (that is, a and A refer to different types of items).\\n\\nThe list of items for each rucksack is given as characters all on a single line. A given rucksack always has the same number of items in each of its two compartments, so the first half of the characters represent items in the first compartment, while the second half of the characters represent items in the second compartment.\\n\\nFor example, suppose you have the following list of contents from six rucksacks:\\n\\nvJrwpWtwJgWrhcsFMMfFFhFp\\njqHRNqRjqzjGDLGLrsFMfFZSrLrFZsSL\\nPmmdzqPrVvPwwTWBwg\\nwMqvLMZHhHMvwLHjbvcjnnSBnvTQFn\\nttgJtRGJQctTZtZT\\nCrZsJsPPZsGzwwsLwLmpwMDw\\n\\n    The first rucksack contains the items vJrwpWtwJgWrhcsFMMfFFhFp, which means its first compartment contains the items vJrwpWtwJgWr, while the second compartment contains the items hcsFMMfFFhFp. The only item type that appears in both compartments is lowercase p.\\n    The second rucksack's compartments contain jqHRNqRjqzjGDLGL and rsFMfFZSrLrFZsSL. The only item type that appears in both compartments is uppercase L.\\n    The third rucksack's compartments contain PmmdzqPrV and vPwwTWBwg; the only common item type is uppercase P.\\n    The fourth rucksack's compartments only share item type v.\\n    The fifth rucksack's compartments only share item type t.\\n    The sixth rucksack's compartments only share item type s.\\n\\nTo help prioritize item rearrangement, every item type can be converted to a priority:\\n\\n    Lowercase item types a through z have priorities 1 through 26.\\n    Uppercase item types A through Z have priorities 27 through 52.\\n\\nIn the above example, the priority of the item type that appears in both compartments of each rucksack is 16 (p), 38 (L), 42 (P), 22 (v), 20 (t), and 19 (s); the sum of these is 157.\\n\\nFind the item type that appears in both compartments of each rucksack. What is the sum of the priorities of those item types?\\n\""
      ]
     },
     "execution_count": 1,
     "metadata": {},
     "output_type": "execute_result"
    }
   ],
   "source": [
    "\"\"\"\n",
    "--- Day 3: Rucksack Reorganization ---\n",
    "\n",
    "One Elf has the important job of loading all of the rucksacks with supplies for the jungle journey. Unfortunately, that Elf didn't quite follow the packing instructions, and so a few items now need to be rearranged.\n",
    "\n",
    "Each rucksack has two large compartments. All items of a given type are meant to go into exactly one of the two compartments. The Elf that did the packing failed to follow this rule for exactly one item type per rucksack.\n",
    "\n",
    "The Elves have made a list of all of the items currently in each rucksack (your puzzle input), but they need your help finding the errors. Every item type is identified by a single lowercase or uppercase letter (that is, a and A refer to different types of items).\n",
    "\n",
    "The list of items for each rucksack is given as characters all on a single line. A given rucksack always has the same number of items in each of its two compartments, so the first half of the characters represent items in the first compartment, while the second half of the characters represent items in the second compartment.\n",
    "\n",
    "For example, suppose you have the following list of contents from six rucksacks:\n",
    "\n",
    "vJrwpWtwJgWrhcsFMMfFFhFp\n",
    "jqHRNqRjqzjGDLGLrsFMfFZSrLrFZsSL\n",
    "PmmdzqPrVvPwwTWBwg\n",
    "wMqvLMZHhHMvwLHjbvcjnnSBnvTQFn\n",
    "ttgJtRGJQctTZtZT\n",
    "CrZsJsPPZsGzwwsLwLmpwMDw\n",
    "\n",
    "    The first rucksack contains the items vJrwpWtwJgWrhcsFMMfFFhFp, which means its first compartment contains the items vJrwpWtwJgWr, while the second compartment contains the items hcsFMMfFFhFp. The only item type that appears in both compartments is lowercase p.\n",
    "    The second rucksack's compartments contain jqHRNqRjqzjGDLGL and rsFMfFZSrLrFZsSL. The only item type that appears in both compartments is uppercase L.\n",
    "    The third rucksack's compartments contain PmmdzqPrV and vPwwTWBwg; the only common item type is uppercase P.\n",
    "    The fourth rucksack's compartments only share item type v.\n",
    "    The fifth rucksack's compartments only share item type t.\n",
    "    The sixth rucksack's compartments only share item type s.\n",
    "\n",
    "To help prioritize item rearrangement, every item type can be converted to a priority:\n",
    "\n",
    "    Lowercase item types a through z have priorities 1 through 26.\n",
    "    Uppercase item types A through Z have priorities 27 through 52.\n",
    "\n",
    "In the above example, the priority of the item type that appears in both compartments of each rucksack is 16 (p), 38 (L), 42 (P), 22 (v), 20 (t), and 19 (s); the sum of these is 157.\n",
    "\n",
    "Find the item type that appears in both compartments of each rucksack. What is the sum of the priorities of those item types?\n",
    "\"\"\""
   ]
  },
  {
   "cell_type": "markdown",
   "metadata": {},
   "source": [
    "autogenerated summary"
   ]
  },
  {
   "cell_type": "code",
   "execution_count": 2,
   "metadata": {},
   "outputs": [],
   "source": [
    "# Summary of the problem:\n",
    "#   - Each rucksack has two compartments\n",
    "#   - Each compartment has the same number of items\n",
    "#   - Each item is a single letter\n",
    "#   - Each item type is identified by a single letter\n",
    "#   - The first half of the items are in the first compartment\n",
    "#   - The second half of the items are in the second compartment\n",
    "#   - The item types that appear in both compartments are the answer\n",
    "#   - The answer is the sum of the priorities of the item types\n"
   ]
  },
  {
   "cell_type": "code",
   "execution_count": 3,
   "metadata": {},
   "outputs": [],
   "source": [
    "example = \"\"\"vJrwpWtwJgWrhcsFMMfFFhFp\n",
    "jqHRNqRjqzjGDLGLrsFMfFZSrLrFZsSL\n",
    "PmmdzqPrVvPwwTWBwg\n",
    "wMqvLMZHhHMvwLHjbvcjnnSBnvTQFn\n",
    "ttgJtRGJQctTZtZT\n",
    "CrZsJsPPZsGzwwsLwLmpwMDw\"\"\""
   ]
  },
  {
   "cell_type": "code",
   "execution_count": 7,
   "metadata": {},
   "outputs": [
    {
     "name": "stdout",
     "output_type": "stream",
     "text": [
      "{'A': 27,\n",
      " 'B': 28,\n",
      " 'C': 29,\n",
      " 'D': 30,\n",
      " 'E': 31,\n",
      " 'F': 32,\n",
      " 'G': 33,\n",
      " 'H': 34,\n",
      " 'I': 35,\n",
      " 'J': 36,\n",
      " 'K': 37,\n",
      " 'L': 38,\n",
      " 'M': 39,\n",
      " 'N': 40,\n",
      " 'O': 41,\n",
      " 'P': 42,\n",
      " 'Q': 43,\n",
      " 'R': 44,\n",
      " 'S': 45,\n",
      " 'T': 46,\n",
      " 'U': 47,\n",
      " 'V': 48,\n",
      " 'W': 49,\n",
      " 'X': 50,\n",
      " 'Y': 51,\n",
      " 'Z': 52,\n",
      " 'a': 1,\n",
      " 'b': 2,\n",
      " 'c': 3,\n",
      " 'd': 4,\n",
      " 'e': 5,\n",
      " 'f': 6,\n",
      " 'g': 7,\n",
      " 'h': 8,\n",
      " 'i': 9,\n",
      " 'j': 10,\n",
      " 'k': 11,\n",
      " 'l': 12,\n",
      " 'm': 13,\n",
      " 'n': 14,\n",
      " 'o': 15,\n",
      " 'p': 16,\n",
      " 'q': 17,\n",
      " 'r': 18,\n",
      " 's': 19,\n",
      " 't': 20,\n",
      " 'u': 21,\n",
      " 'v': 22,\n",
      " 'w': 23,\n",
      " 'x': 24,\n",
      " 'y': 25,\n",
      " 'z': 26}\n"
     ]
    }
   ],
   "source": [
    "priorities = {chr(i): i - 96 for i in range(97, 123)}\n",
    "priorities.update({chr(i): i - 38 for i in range(65, 91)})\n",
    "from pprint import pprint \n",
    "pprint(priorities)"
   ]
  },
  {
   "cell_type": "code",
   "execution_count": 25,
   "metadata": {},
   "outputs": [
    {
     "data": {
      "text/plain": [
       "157"
      ]
     },
     "execution_count": 25,
     "metadata": {},
     "output_type": "execute_result"
    }
   ],
   "source": [
    "def solve(input):\n",
    "    lines = input.split(\"\\n\")\n",
    "    x = 0\n",
    "    for line in lines:\n",
    "        first = line[:len(line)//2]\n",
    "        second = line[len(line)//2:]\n",
    "        x += sum(priorities[letter] for letter in set(first) & set(second))\n",
    "    return x\n",
    "solve(example)"
   ]
  },
  {
   "cell_type": "code",
   "execution_count": 26,
   "metadata": {},
   "outputs": [
    {
     "data": {
      "text/plain": [
       "7908"
      ]
     },
     "execution_count": 26,
     "metadata": {},
     "output_type": "execute_result"
    }
   ],
   "source": [
    "with open(\"03.txt\") as f:\n",
    "    input = f.read()\n",
    "solve(input)"
   ]
  },
  {
   "cell_type": "markdown",
   "metadata": {},
   "source": [
    "# part 2"
   ]
  },
  {
   "cell_type": "code",
   "execution_count": 27,
   "metadata": {},
   "outputs": [
    {
     "data": {
      "text/plain": [
       "\"--- Part Two ---\\n\\nAs you finish identifying the misplaced items, the Elves come to you with another issue.\\n\\nFor safety, the Elves are divided into groups of three. Every Elf carries a badge that identifies their group. For efficiency, within each group of three Elves, the badge is the only item type carried by all three Elves. That is, if a group's badge is item type B, then all three Elves will have item type B somewhere in their rucksack, and at most two of the Elves will be carrying any other item type.\\n\\nThe problem is that someone forgot to put this year's updated authenticity sticker on the badges. All of the badges need to be pulled out of the rucksacks so the new authenticity stickers can be attached.\\n\\nAdditionally, nobody wrote down which item type corresponds to each group's badges. The only way to tell which item type is the right one is by finding the one item type that is common between all three Elves in each group.\\n\\nEvery set of three lines in your list corresponds to a single group, but each group can have a different badge item type. So, in the above example, the first group's rucksacks are the first three lines:\\n\\nvJrwpWtwJgWrhcsFMMfFFhFp\\njqHRNqRjqzjGDLGLrsFMfFZSrLrFZsSL\\nPmmdzqPrVvPwwTWBwg\\n\\nAnd the second group's rucksacks are the next three lines:\\n\\nwMqvLMZHhHMvwLHjbvcjnnSBnvTQFn\\nttgJtRGJQctTZtZT\\nCrZsJsPPZsGzwwsLwLmpwMDw\\n\\nIn the first group, the only item type that appears in all three rucksacks is lowercase r; this must be their badges. In the second group, their badge item type must be Z.\\n\\nPriorities for these items must still be found to organize the sticker attachment efforts: here, they are 18 (r) for the first group and 52 (Z) for the second group. The sum of these is 70.\\n\\nFind the item type that corresponds to the badges of each three-Elf group. What is the sum of the priorities of those item types?\\n\""
      ]
     },
     "execution_count": 27,
     "metadata": {},
     "output_type": "execute_result"
    }
   ],
   "source": [
    "\"\"\"--- Part Two ---\n",
    "\n",
    "As you finish identifying the misplaced items, the Elves come to you with another issue.\n",
    "\n",
    "For safety, the Elves are divided into groups of three. Every Elf carries a badge that identifies their group. For efficiency, within each group of three Elves, the badge is the only item type carried by all three Elves. That is, if a group's badge is item type B, then all three Elves will have item type B somewhere in their rucksack, and at most two of the Elves will be carrying any other item type.\n",
    "\n",
    "The problem is that someone forgot to put this year's updated authenticity sticker on the badges. All of the badges need to be pulled out of the rucksacks so the new authenticity stickers can be attached.\n",
    "\n",
    "Additionally, nobody wrote down which item type corresponds to each group's badges. The only way to tell which item type is the right one is by finding the one item type that is common between all three Elves in each group.\n",
    "\n",
    "Every set of three lines in your list corresponds to a single group, but each group can have a different badge item type. So, in the above example, the first group's rucksacks are the first three lines:\n",
    "\n",
    "vJrwpWtwJgWrhcsFMMfFFhFp\n",
    "jqHRNqRjqzjGDLGLrsFMfFZSrLrFZsSL\n",
    "PmmdzqPrVvPwwTWBwg\n",
    "\n",
    "And the second group's rucksacks are the next three lines:\n",
    "\n",
    "wMqvLMZHhHMvwLHjbvcjnnSBnvTQFn\n",
    "ttgJtRGJQctTZtZT\n",
    "CrZsJsPPZsGzwwsLwLmpwMDw\n",
    "\n",
    "In the first group, the only item type that appears in all three rucksacks is lowercase r; this must be their badges. In the second group, their badge item type must be Z.\n",
    "\n",
    "Priorities for these items must still be found to organize the sticker attachment efforts: here, they are 18 (r) for the first group and 52 (Z) for the second group. The sum of these is 70.\n",
    "\n",
    "Find the item type that corresponds to the badges of each three-Elf group. What is the sum of the priorities of those item types?\n",
    "\"\"\""
   ]
  },
  {
   "cell_type": "code",
   "execution_count": 34,
   "metadata": {},
   "outputs": [
    {
     "name": "stdout",
     "output_type": "stream",
     "text": [
      "70\n",
      "2838\n"
     ]
    }
   ],
   "source": [
    "def solve2(input):\n",
    "    lines = input.strip().split(\"\\n\")\n",
    "    groups = [lines[i:i+3] for i in range(0, len(lines), 3)]\n",
    "    x = 0\n",
    "    for group in groups:\n",
    "        items = set(group[0]) & set(group[1]) & set(group[2])\n",
    "        x += sum(priorities[item] for item in items)\n",
    "    return x\n",
    "print(solve2(example))\n",
    "print(solve2(input))"
   ]
  }
 ],
 "metadata": {
  "kernelspec": {
   "display_name": "Python 3.9.12 ('base')",
   "language": "python",
   "name": "python3"
  },
  "language_info": {
   "codemirror_mode": {
    "name": "ipython",
    "version": 3
   },
   "file_extension": ".py",
   "mimetype": "text/x-python",
   "name": "python",
   "nbconvert_exporter": "python",
   "pygments_lexer": "ipython3",
   "version": "3.9.12"
  },
  "orig_nbformat": 4,
  "vscode": {
   "interpreter": {
    "hash": "ad2bdc8ecc057115af97d19610ffacc2b4e99fae6737bb82f5d7fb13d2f2c186"
   }
  }
 },
 "nbformat": 4,
 "nbformat_minor": 2
}
