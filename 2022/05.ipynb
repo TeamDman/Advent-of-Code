{
 "cells": [
  {
   "cell_type": "code",
   "execution_count": 25,
   "metadata": {},
   "outputs": [
    {
     "data": {
      "text/plain": [
       "\"\\n--- Day 5: Supply Stacks ---\\nThe expedition can depart as soon as the final supplies have been unloaded from the ships. Supplies are stored in stacks of marked crates, but because the needed supplies are buried under many other crates, the crates need to be rearranged.\\n\\nThe ship has a giant cargo crane capable of moving crates between stacks. To ensure none of the crates get crushed or fall over, the crane operator will rearrange them in a series of carefully-planned steps. After the crates are rearranged, the desired crates will be at the top of each stack.\\n\\nThe Elves don't want to interrupt the crane operator during this delicate procedure, but they forgot to ask her which crate will end up where, and they want to be ready to unload them as soon as possible so they can embark.\\n\\nThey do, however, have a drawing of the starting stacks of crates and the rearrangement procedure (your puzzle input). For example:\\n\\n    [D]    \\n[N] [C]    \\n[Z] [M] [P]\\n 1   2   3 \\n\\nmove 1 from 2 to 1\\nmove 3 from 1 to 3\\nmove 2 from 2 to 1\\nmove 1 from 1 to 2\\nIn this example, there are three stacks of crates. Stack 1 contains two crates: crate Z is on the bottom, and crate N is on top. Stack 2 contains three crates; from bottom to top, they are crates M, C, and D. Finally, stack 3 contains a single crate, P.\\n\\nThen, the rearrangement procedure is given. In each step of the procedure, a quantity of crates is moved from one stack to a different stack. In the first step of the above rearrangement procedure, one crate is moved from stack 2 to stack 1, resulting in this configuration:\\n\\n[D]        \\n[N] [C]    \\n[Z] [M] [P]\\n 1   2   3 \\nIn the second step, three crates are moved from stack 1 to stack 3. Crates are moved one at a time, so the first crate to be moved (D) ends up below the second and third crates:\\n\\n        [Z]\\n        [N]\\n    [C] [D]\\n    [M] [P]\\n 1   2   3\\nThen, both crates are moved from stack 2 to stack 1. Again, because crates are moved one at a time, crate C ends up below crate M:\\n\\n        [Z]\\n        [N]\\n[M]     [D]\\n[C]     [P]\\n 1   2   3\\nFinally, one crate is moved from stack 1 to stack 2:\\n\\n        [Z]\\n        [N]\\n        [D]\\n[C] [M] [P]\\n 1   2   3\\nThe Elves just need to know which crate will end up on top of each stack; in this example, the top crates are C in stack 1, M in stack 2, and Z in stack 3, so you should combine these together and give the Elves the message CMZ.\\n\\nAfter the rearrangement procedure completes, what crate ends up on top of each stack?\\n\""
      ]
     },
     "execution_count": 25,
     "metadata": {},
     "output_type": "execute_result"
    }
   ],
   "source": [
    "# Problem definition\n",
    "\"\"\"\n",
    "--- Day 5: Supply Stacks ---\n",
    "The expedition can depart as soon as the final supplies have been unloaded from the ships. Supplies are stored in stacks of marked crates, but because the needed supplies are buried under many other crates, the crates need to be rearranged.\n",
    "\n",
    "The ship has a giant cargo crane capable of moving crates between stacks. To ensure none of the crates get crushed or fall over, the crane operator will rearrange them in a series of carefully-planned steps. After the crates are rearranged, the desired crates will be at the top of each stack.\n",
    "\n",
    "The Elves don't want to interrupt the crane operator during this delicate procedure, but they forgot to ask her which crate will end up where, and they want to be ready to unload them as soon as possible so they can embark.\n",
    "\n",
    "They do, however, have a drawing of the starting stacks of crates and the rearrangement procedure (your puzzle input). For example:\n",
    "\n",
    "    [D]    \n",
    "[N] [C]    \n",
    "[Z] [M] [P]\n",
    " 1   2   3 \n",
    "\n",
    "move 1 from 2 to 1\n",
    "move 3 from 1 to 3\n",
    "move 2 from 2 to 1\n",
    "move 1 from 1 to 2\n",
    "In this example, there are three stacks of crates. Stack 1 contains two crates: crate Z is on the bottom, and crate N is on top. Stack 2 contains three crates; from bottom to top, they are crates M, C, and D. Finally, stack 3 contains a single crate, P.\n",
    "\n",
    "Then, the rearrangement procedure is given. In each step of the procedure, a quantity of crates is moved from one stack to a different stack. In the first step of the above rearrangement procedure, one crate is moved from stack 2 to stack 1, resulting in this configuration:\n",
    "\n",
    "[D]        \n",
    "[N] [C]    \n",
    "[Z] [M] [P]\n",
    " 1   2   3 \n",
    "In the second step, three crates are moved from stack 1 to stack 3. Crates are moved one at a time, so the first crate to be moved (D) ends up below the second and third crates:\n",
    "\n",
    "        [Z]\n",
    "        [N]\n",
    "    [C] [D]\n",
    "    [M] [P]\n",
    " 1   2   3\n",
    "Then, both crates are moved from stack 2 to stack 1. Again, because crates are moved one at a time, crate C ends up below crate M:\n",
    "\n",
    "        [Z]\n",
    "        [N]\n",
    "[M]     [D]\n",
    "[C]     [P]\n",
    " 1   2   3\n",
    "Finally, one crate is moved from stack 1 to stack 2:\n",
    "\n",
    "        [Z]\n",
    "        [N]\n",
    "        [D]\n",
    "[C] [M] [P]\n",
    " 1   2   3\n",
    "The Elves just need to know which crate will end up on top of each stack; in this example, the top crates are C in stack 1, M in stack 2, and Z in stack 3, so you should combine these together and give the Elves the message CMZ.\n",
    "\n",
    "After the rearrangement procedure completes, what crate ends up on top of each stack?\n",
    "\"\"\""
   ]
  },
  {
   "cell_type": "code",
   "execution_count": 26,
   "metadata": {},
   "outputs": [],
   "source": [
    "example = \"\"\"    [D]    \n",
    "[N] [C]    \n",
    "[Z] [M] [P]\n",
    " 1   2   3 \n",
    "\n",
    "move 1 from 2 to 1\n",
    "move 3 from 1 to 3\n",
    "move 2 from 2 to 1\n",
    "move 1 from 1 to 2\"\"\""
   ]
  },
  {
   "cell_type": "code",
   "execution_count": 27,
   "metadata": {},
   "outputs": [],
   "source": [
    "with open(\"05.txt\") as f:\n",
    "    content = f.read()"
   ]
  },
  {
   "cell_type": "code",
   "execution_count": 28,
   "metadata": {},
   "outputs": [
    {
     "name": "stdout",
     "output_type": "stream",
     "text": [
      "[T]     [Q]             [S]        \n",
      "[R]     [M]             [L] [V] [G]\n",
      "[D] [V] [V]             [Q] [N] [C]\n",
      "[H] [T] [S] [C]         [V] [D] [Z]\n",
      "[Q] [J] [D] [M]     [Z] [C] [M] [F]\n",
      "[N] [B] [H] [N] [B] [W] [N] [J] [M]\n",
      "[P] [G] [R] [Z] [Z] [C] [Z] [G] [P]\n",
      "[B] [W] [N] [P] [D] [V] [G] [L] [T]\n",
      " 1   2   3   4   5   6   7   8   9 \n"
     ]
    }
   ],
   "source": [
    "state, instr = content.split(\"\\n\\n\")\n",
    "print(state)"
   ]
  },
  {
   "cell_type": "code",
   "execution_count": 29,
   "metadata": {},
   "outputs": [],
   "source": [
    "import numpy as np"
   ]
  },
  {
   "cell_type": "code",
   "execution_count": 30,
   "metadata": {},
   "outputs": [
    {
     "name": "stdout",
     "output_type": "stream",
     "text": [
      "[['1' 'B' 'P' 'N' 'Q' 'H' 'D' 'R' 'T']\n",
      " ['2' 'W' 'G' 'B' 'J' 'T' 'V' ' ' ' ']\n",
      " ['3' 'N' 'R' 'H' 'D' 'S' 'V' 'M' 'Q']\n",
      " ['4' 'P' 'Z' 'N' 'M' 'C' ' ' ' ' ' ']\n",
      " ['5' 'D' 'Z' 'B' ' ' ' ' ' ' ' ' ' ']\n",
      " ['6' 'V' 'C' 'W' 'Z' ' ' ' ' ' ' ' ']\n",
      " ['7' 'G' 'Z' 'N' 'C' 'V' 'Q' 'L' 'S']\n",
      " ['8' 'L' 'G' 'J' 'M' 'D' 'N' 'V' ' ']\n",
      " ['9' 'T' 'P' 'M' 'F' 'Z' 'C' 'G' ' ']]\n"
     ]
    }
   ],
   "source": [
    "x = np.array([list(x) for x in state.split(\"\\n\")])\n",
    "# extract meaningful info\n",
    "x = x[:,1::4].T[:,::-1]\n",
    "print(x)"
   ]
  },
  {
   "cell_type": "code",
   "execution_count": 31,
   "metadata": {},
   "outputs": [
    {
     "name": "stdout",
     "output_type": "stream",
     "text": [
      "{0: ['B', 'P', 'N', 'Q', 'H', 'D', 'R', 'T'], 1: ['W', 'G', 'B', 'J', 'T', 'V'], 2: ['N', 'R', 'H', 'D', 'S', 'V', 'M', 'Q'], 3: ['P', 'Z', 'N', 'M', 'C'], 4: ['D', 'Z', 'B'], 5: ['V', 'C', 'W', 'Z'], 6: ['G', 'Z', 'N', 'C', 'V', 'Q', 'L', 'S'], 7: ['L', 'G', 'J', 'M', 'D', 'N', 'V'], 8: ['T', 'P', 'M', 'F', 'Z', 'C', 'G']}\n"
     ]
    }
   ],
   "source": [
    "stacks = {i:[y for y in x[i].tolist()[1:] if y != \" \"] for i in range(x.shape[0])}\n",
    "print(stacks)"
   ]
  },
  {
   "cell_type": "code",
   "execution_count": 32,
   "metadata": {},
   "outputs": [],
   "source": [
    "for line in instr.strip().split(\"\\n\"):\n",
    "    _,amount,_,frm,_,to = line.split()\n",
    "    popped = [stacks[int(frm)-1].pop() for _ in range(int(amount))]\n",
    "    stacks[int(to)-1].extend(popped)\n"
   ]
  },
  {
   "cell_type": "code",
   "execution_count": 33,
   "metadata": {},
   "outputs": [
    {
     "name": "stdout",
     "output_type": "stream",
     "text": [
      "ZBDRNPMVH\n"
     ]
    }
   ],
   "source": [
    "print(\"\".join([stacks[i][-1] for i in range(len(stacks))]))"
   ]
  },
  {
   "cell_type": "markdown",
   "metadata": {},
   "source": [
    "# P2"
   ]
  },
  {
   "cell_type": "code",
   "execution_count": 38,
   "metadata": {},
   "outputs": [
    {
     "name": "stdout",
     "output_type": "stream",
     "text": [
      "{0: ['B', 'P', 'N', 'Q', 'H', 'D', 'R', 'T'],\n",
      " 1: ['W', 'G', 'B', 'J', 'T', 'V'],\n",
      " 2: ['N', 'R', 'H', 'D', 'S', 'V', 'M', 'Q'],\n",
      " 3: ['P', 'Z', 'N', 'M', 'C'],\n",
      " 4: ['D', 'Z', 'B'],\n",
      " 5: ['V', 'C', 'W', 'Z'],\n",
      " 6: ['G', 'Z', 'N', 'C', 'V', 'Q', 'L', 'S'],\n",
      " 7: ['L', 'G', 'J', 'M', 'D', 'N', 'V'],\n",
      " 8: ['T', 'P', 'M', 'F', 'Z', 'C', 'G']}\n"
     ]
    }
   ],
   "source": [
    "from pprint import pprint\n",
    "stacks = {i:[y for y in x[i].tolist()[1:] if y != \" \"] for i in range(x.shape[0])}\n",
    "pprint(stacks)"
   ]
  },
  {
   "cell_type": "code",
   "execution_count": 39,
   "metadata": {},
   "outputs": [],
   "source": [
    "for line in instr.strip().split(\"\\n\"):\n",
    "    _,amount,_,frm,_,to = line.split()\n",
    "    popped = [stacks[int(frm)-1].pop() for _ in range(int(amount))]\n",
    "    stacks[int(to)-1].extend(popped[::-1])"
   ]
  },
  {
   "cell_type": "code",
   "execution_count": 40,
   "metadata": {},
   "outputs": [
    {
     "name": "stdout",
     "output_type": "stream",
     "text": [
      "WDLPFNNNB\n"
     ]
    }
   ],
   "source": [
    "print(\"\".join([stacks[i][-1] for i in range(len(stacks))]))"
   ]
  }
 ],
 "metadata": {
  "kernelspec": {
   "display_name": "Python 3.10.4 64-bit",
   "language": "python",
   "name": "python3"
  },
  "language_info": {
   "codemirror_mode": {
    "name": "ipython",
    "version": 3
   },
   "file_extension": ".py",
   "mimetype": "text/x-python",
   "name": "python",
   "nbconvert_exporter": "python",
   "pygments_lexer": "ipython3",
   "version": "3.10.4"
  },
  "orig_nbformat": 4,
  "vscode": {
   "interpreter": {
    "hash": "3ad933181bd8a04b432d3370b9dc3b0662ad032c4dfaa4e4f1596c548f763858"
   }
  }
 },
 "nbformat": 4,
 "nbformat_minor": 2
}
