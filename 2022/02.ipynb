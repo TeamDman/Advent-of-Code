{
 "cells": [
  {
   "cell_type": "code",
   "execution_count": 69,
   "metadata": {},
   "outputs": [
    {
     "name": "stdout",
     "output_type": "stream",
     "text": [
      "[['B', 'Z'], ['B', 'Z'], ['C', 'Z'], ['C', 'Z'], ['B', 'X'], ['C', 'Y'], ['A', 'Y'], ['B', 'Z'], ['A', 'Z'], ['A', 'Y']]\n"
     ]
    }
   ],
   "source": [
    "with open(\"02.txt\",\"r\") as f:\n",
    "    lines = f.readlines()\n",
    "# lines = \"\"\"A Y\n",
    "# B X\n",
    "# C Z\"\"\".split(\"\\n\")\n",
    "lines = [line.strip().split() for line in lines]\n",
    "print(lines[0:10])"
   ]
  },
  {
   "cell_type": "code",
   "execution_count": 70,
   "metadata": {},
   "outputs": [],
   "source": [
    "beats = {\n",
    "    \"X\": \"C\",\n",
    "    \"Y\": \"A\",\n",
    "    \"Z\": \"B\",\n",
    "}\n",
    "eq = {\n",
    "    \"X\": \"A\",\n",
    "    \"Y\": \"B\",\n",
    "    \"Z\": \"C\",\n",
    "}\n",
    "points = {\n",
    "    \"X\": 1,\n",
    "    \"Y\": 2,\n",
    "    \"Z\": 3,\n",
    "}"
   ]
  },
  {
   "cell_type": "code",
   "execution_count": 71,
   "metadata": {},
   "outputs": [
    {
     "data": {
      "text/plain": [
       "[9, 9, 6, 6, 1, 2, 8, 9, 3, 8]"
      ]
     },
     "execution_count": 71,
     "metadata": {},
     "output_type": "execute_result"
    }
   ],
   "source": [
    "list((beats[x[1]] == x[0] and 6 or x[0]==eq[x[1]] and 3 or 0) + points[x[1]] for x in lines)[0:10]"
   ]
  },
  {
   "cell_type": "code",
   "execution_count": 72,
   "metadata": {},
   "outputs": [
    {
     "data": {
      "text/plain": [
       "15523"
      ]
     },
     "execution_count": 72,
     "metadata": {},
     "output_type": "execute_result"
    }
   ],
   "source": [
    "sum((beats[x[1]] == x[0] and 6 or x[0]==eq[x[1]] and 3 or 0) + points[x[1]] for x in lines)"
   ]
  },
  {
   "cell_type": "markdown",
   "metadata": {},
   "source": [
    "x=lose y=draw z=win"
   ]
  },
  {
   "cell_type": "code",
   "execution_count": 73,
   "metadata": {},
   "outputs": [],
   "source": [
    "# if x then lose, if y then draw, if z then win\n",
    "# A is rock, b is paper, c is scissors\n",
    "# need to map the value from X,Y,Z as lose,draw,win to X,Y,Z as rock,paper,scissors\n",
    "lookup = {\n",
    "    (\"A\",\"X\"): \"Z\",\n",
    "    (\"B\",\"X\"): \"X\",\n",
    "    (\"C\",\"X\"): \"Y\",\n",
    "    (\"A\",\"Y\"): \"X\",\n",
    "    (\"B\",\"Y\"): \"Y\",\n",
    "    (\"C\",\"Y\"): \"Z\",\n",
    "    (\"A\",\"Z\"): \"Y\",\n",
    "    (\"B\",\"Z\"): \"Z\",\n",
    "    (\"C\",\"Z\"): \"X\",\n",
    "}"
   ]
  },
  {
   "cell_type": "code",
   "execution_count": 74,
   "metadata": {},
   "outputs": [
    {
     "name": "stdout",
     "output_type": "stream",
     "text": [
      "[('B', 'Z'), ('B', 'Z'), ('C', 'X'), ('C', 'X'), ('B', 'X'), ('C', 'Z'), ('A', 'X'), ('B', 'Z'), ('A', 'Y'), ('A', 'X')]\n"
     ]
    }
   ],
   "source": [
    "asd = list((x[0], lookup[tuple(x)]) for x in lines)\n",
    "print(asd[0:10])"
   ]
  },
  {
   "cell_type": "code",
   "execution_count": 75,
   "metadata": {},
   "outputs": [
    {
     "data": {
      "text/plain": [
       "15702"
      ]
     },
     "execution_count": 75,
     "metadata": {},
     "output_type": "execute_result"
    }
   ],
   "source": [
    "sum((beats[x[1]] == x[0] and 6 or x[0]==eq[x[1]] and 3 or 0) + points[x[1]] for x in asd)"
   ]
  }
 ],
 "metadata": {
  "kernelspec": {
   "display_name": "Python 3.10.4 64-bit",
   "language": "python",
   "name": "python3"
  },
  "language_info": {
   "codemirror_mode": {
    "name": "ipython",
    "version": 3
   },
   "file_extension": ".py",
   "mimetype": "text/x-python",
   "name": "python",
   "nbconvert_exporter": "python",
   "pygments_lexer": "ipython3",
   "version": "3.10.4"
  },
  "orig_nbformat": 4,
  "vscode": {
   "interpreter": {
    "hash": "3ad933181bd8a04b432d3370b9dc3b0662ad032c4dfaa4e4f1596c548f763858"
   }
  }
 },
 "nbformat": 4,
 "nbformat_minor": 2
}
