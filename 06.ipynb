{
 "cells": [
  {
   "cell_type": "code",
   "execution_count": 29,
   "metadata": {},
   "outputs": [],
   "source": [
    "\"\"\"\n",
    "--- Day 6: Tuning Trouble ---\n",
    "The preparations are finally complete; you and the Elves leave camp on foot and begin to make your way toward the star fruit grove.\n",
    "\n",
    "As you move through the dense undergrowth, one of the Elves gives you a handheld device. He says that it has many fancy features, but the most important one to set up right now is the communication system.\n",
    "\n",
    "However, because he's heard you have significant experience dealing with signal-based systems, he convinced the other Elves that it would be okay to give you their one malfunctioning device - surely you'll have no problem fixing it.\n",
    "\n",
    "As if inspired by comedic timing, the device emits a few colorful sparks.\n",
    "\n",
    "To be able to communicate with the Elves, the device needs to lock on to their signal. The signal is a series of seemingly-random characters that the device receives one at a time.\n",
    "\n",
    "To fix the communication system, you need to add a subroutine to the device that detects a start-of-packet marker in the datastream. In the protocol being used by the Elves, the start of a packet is indicated by a sequence of four characters that are all different.\n",
    "\n",
    "The device will send your subroutine a datastream buffer (your puzzle input); your subroutine needs to identify the first position where the four most recently received characters were all different. Specifically, it needs to report the number of characters from the beginning of the buffer to the end of the first such four-character marker.\n",
    "\n",
    "For example, suppose you receive the following datastream buffer:\n",
    "\n",
    "mjqjpqmgbljsphdztnvjfqwrcgsmlb\n",
    "After the first three characters (mjq) have been received, there haven't been enough characters received yet to find the marker. The first time a marker could occur is after the fourth character is received, making the most recent four characters mjqj. Because j is repeated, this isn't a marker.\n",
    "\n",
    "The first time a marker appears is after the seventh character arrives. Once it does, the last four characters received are jpqm, which are all different. In this case, your subroutine should report the value 7, because the first start-of-packet marker is complete after 7 characters have been processed.\n",
    "\n",
    "Here are a few more examples:\n",
    "\n",
    "bvwbjplbgvbhsrlpgdmjqwftvncz: first marker after character 5\n",
    "nppdvjthqldpwncqszvftbrmjlhg: first marker after character 6\n",
    "nznrnfrfntjfmvfwmzdfjlvtqnbhcprsg: first marker after character 10\n",
    "zcfzfwzzqfrljwzlrfnpqdbhtmscgvjw: first marker after character 11\n",
    "How many characters need to be processed before the first start-of-packet marker is detected?\n",
    "\"\"\"\n",
    "pass"
   ]
  },
  {
   "cell_type": "markdown",
   "metadata": {},
   "source": [
    "tried using the above to give copilot more context to the problem.\n",
    "\n",
    "Used copilot to generate the summary below which was neat"
   ]
  },
  {
   "cell_type": "code",
   "execution_count": 30,
   "metadata": {},
   "outputs": [],
   "source": [
    "# summary of the above as formal requirements\n",
    "# 1. the input is a string\n",
    "# 2. the output is an integer\n",
    "# 3. the output is the number of characters from the beginning of the buffer to the end of the first such four-character marker\n",
    "# 4. the marker is a sequence of four characters that are all different"
   ]
  },
  {
   "cell_type": "code",
   "execution_count": 31,
   "metadata": {},
   "outputs": [
    {
     "name": "stdout",
     "output_type": "stream",
     "text": [
      "rqwqtwwrmrqqrcrtrpppjrjgr\n"
     ]
    }
   ],
   "source": [
    "with open(\"03.txt\", \"r\") as f:\n",
    "    data = f.read()\n",
    "print(data[0:25])"
   ]
  },
  {
   "cell_type": "code",
   "execution_count": 32,
   "metadata": {},
   "outputs": [],
   "source": [
    "def solve(data: str) -> int:\n",
    "    for i in range(0,len(data)-4):\n",
    "        chunk = data[i:i+4]\n",
    "        if len(set(chunk)) == 4:\n",
    "            return i+4"
   ]
  },
  {
   "cell_type": "code",
   "execution_count": 33,
   "metadata": {},
   "outputs": [],
   "source": [
    "assert solve(\"bvwbjplbgvbhsrlpgdmjqwftvncz\") == 5\n",
    "assert solve(\"nppdvjthqldpwncqszvftbrmjlhg\") == 6\n",
    "assert solve(\"nznrnfrfntjfmvfwmzdfjlvtqnbhcprsg\") == 10\n",
    "assert solve(\"zcfzfwzzqfrljwzlrfnpqdbhtmscgvjw\") == 11"
   ]
  },
  {
   "cell_type": "code",
   "execution_count": 34,
   "metadata": {},
   "outputs": [
    {
     "data": {
      "text/plain": [
       "1707"
      ]
     },
     "execution_count": 34,
     "metadata": {},
     "output_type": "execute_result"
    }
   ],
   "source": [
    "solve(data)"
   ]
  },
  {
   "cell_type": "code",
   "execution_count": 35,
   "metadata": {},
   "outputs": [],
   "source": [
    "def solve2(data: str) -> int:\n",
    "    window_size=14\n",
    "    for i in range(0,len(data)-window_size):\n",
    "        chunk = data[i:i+window_size]\n",
    "        if len(set(chunk)) == window_size:\n",
    "            return i+window_size\n",
    "            break"
   ]
  },
  {
   "cell_type": "code",
   "execution_count": 36,
   "metadata": {},
   "outputs": [],
   "source": [
    "assert solve2(\"mjqjpqmgbljsphdztnvjfqwrcgsmlb\") == 19\n",
    "assert solve2(\"bvwbjplbgvbhsrlpgdmjqwftvncz\") == 23\n",
    "assert solve2(\"nppdvjthqldpwncqszvftbrmjlhg\") == 23\n",
    "assert solve2(\"nznrnfrfntjfmvfwmzdfjlvtqnbhcprsg\") == 29\n",
    "assert solve2(\"zcfzfwzzqfrljwzlrfnpqdbhtmscgvjw\") == 26"
   ]
  },
  {
   "cell_type": "code",
   "execution_count": 37,
   "metadata": {},
   "outputs": [
    {
     "data": {
      "text/plain": [
       "3697"
      ]
     },
     "execution_count": 37,
     "metadata": {},
     "output_type": "execute_result"
    }
   ],
   "source": [
    "solve2(data)"
   ]
  }
 ],
 "metadata": {
  "kernelspec": {
   "display_name": "Python 3.10.4 64-bit",
   "language": "python",
   "name": "python3"
  },
  "language_info": {
   "codemirror_mode": {
    "name": "ipython",
    "version": 3
   },
   "file_extension": ".py",
   "mimetype": "text/x-python",
   "name": "python",
   "nbconvert_exporter": "python",
   "pygments_lexer": "ipython3",
   "version": "3.10.4"
  },
  "orig_nbformat": 4,
  "vscode": {
   "interpreter": {
    "hash": "3ad933181bd8a04b432d3370b9dc3b0662ad032c4dfaa4e4f1596c548f763858"
   }
  }
 },
 "nbformat": 4,
 "nbformat_minor": 2
}
